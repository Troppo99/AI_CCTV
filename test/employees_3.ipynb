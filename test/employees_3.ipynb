{
 "cells": [
  {
   "cell_type": "markdown",
   "metadata": {},
   "source": [
    "# _PREPARATION_"
   ]
  },
  {
   "cell_type": "code",
   "execution_count": null,
   "metadata": {},
   "outputs": [],
   "source": [
    "!conda list"
   ]
  },
  {
   "cell_type": "code",
   "execution_count": null,
   "metadata": {},
   "outputs": [],
   "source": [
    "!pip install cvzone"
   ]
  },
  {
   "cell_type": "markdown",
   "metadata": {},
   "source": [
    "# _CODE TESTING_"
   ]
  },
  {
   "cell_type": "code",
   "execution_count": null,
   "metadata": {},
   "outputs": [],
   "source": [
    "from ultralytics import YOLO\n",
    "import cv2\n",
    "import cvzone\n",
    "import math\n",
    "import time"
   ]
  },
  {
   "cell_type": "code",
   "execution_count": null,
   "metadata": {},
   "outputs": [],
   "source": [
    "# Inisialisasi video capture\n",
    "video_path = \"D:/NWR27/MY_FILES/Videos/CCTV/New/Video Crop v2.mp4\"\n",
    "cap = cv2.VideoCapture(video_path)\n",
    "\n",
    "# Inisialisasi YOLO model\n",
    "model_path = \"D:/NWR27/AI_CCTV/.runs/detect/employees_3_original++/weights/best.pt\"\n",
    "model = YOLO(model_path)\n",
    "\n",
    "# Nama kelas\n",
    "classNames = [\"Edo\", \"Asep\", \"Rose\", \"Cica\", \"Lilis\", \"Rohani\", \"Fitri\"]\n",
    "\n",
    "# Dimensi untuk imshow\n",
    "scaleof = 0.75  # 0 to 1.5 (1280 x 720 default video resolution)\n",
    "newDim = (int(1280 * scaleof), int(720 * scaleof))"
   ]
  },
  {
   "cell_type": "code",
   "execution_count": null,
   "metadata": {},
   "outputs": [],
   "source": [
    "# Mendapatkan lebar, tinggi, dan frame rate asli video\n",
    "frame_width = int(cap.get(cv2.CAP_PROP_FRAME_WIDTH))\n",
    "frame_height = int(cap.get(cv2.CAP_PROP_FRAME_HEIGHT))\n",
    "original_fps = cap.get(cv2.CAP_PROP_FPS)\n",
    "frame_delay = int(1000 / original_fps)  # Delay dalam milidetik\n",
    "\n",
    "# Inisialisasi VideoWriter object dengan frame rate asli\n",
    "output_path = \".runs/videos/output_video.avi\"\n",
    "out = cv2.VideoWriter(\n",
    "    output_path,\n",
    "    cv2.VideoWriter_fourcc(*\"XVID\"),\n",
    "    original_fps,\n",
    "    (frame_width, frame_height),\n",
    ")"
   ]
  },
  {
   "cell_type": "code",
   "execution_count": null,
   "metadata": {},
   "outputs": [],
   "source": [
    "while True:\n",
    "    start_time = time.time()\n",
    "    success, img = cap.read()\n",
    "    if not success:\n",
    "        print(\"...Gagal memuat frame video...\")\n",
    "        break\n",
    "\n",
    "    results = model(img, stream=True)\n",
    "\n",
    "    for r in results:\n",
    "        boxes = r.boxes\n",
    "        for box in boxes:\n",
    "            x1, y1, x2, y2 = box.xyxy[0]\n",
    "            x1, y1, x2, y2 = int(x1), int(y1), int(x2), int(y2)\n",
    "            w, h = x2 - x1, y2 - y1\n",
    "            # Confidence\n",
    "            conf = math.ceil((box.conf[0] * 100)) / 100\n",
    "            # Nama Kelas\n",
    "            cls = int(box.cls[0])\n",
    "            currentClass = classNames[cls]\n",
    "            if conf > 0:\n",
    "                cv2.rectangle(img, (x1, y1), (x2, y2), (0, 255, 0), 3)\n",
    "                cvzone.putTextRect(\n",
    "                    img,\n",
    "                    f\"{currentClass} {conf}\",\n",
    "                    (max(0, x1), max(35, y1)),\n",
    "                    scale=2,\n",
    "                    thickness=2,\n",
    "                    colorT=(0, 0, 255),\n",
    "                    colorR=(0, 255, 255),\n",
    "                    colorB=(0, 252, 0),\n",
    "                    offset=5,\n",
    "                )\n",
    "\n",
    "    # Menulis frame ke file video\n",
    "    out.write(img)\n",
    "\n",
    "    # Menampilkan frame\n",
    "    img_resized = cv2.resize(img, newDim)\n",
    "    cv2.imshow(\"Image\", img_resized)\n",
    "\n",
    "    # Menghitung waktu pemrosesan dan menambahkan delay\n",
    "    processing_time = time.time() - start_time\n",
    "    wait_time = max(1, frame_delay - int(processing_time * 1000))  # Pastikan waktu tunggu tidak negatif\n",
    "    if cv2.waitKey(wait_time) & 0xFF == ord(\"q\"):\n",
    "        break\n",
    "\n",
    "# Melepas objek VideoCapture dan VideoWriter\n",
    "cap.release()\n",
    "out.release()\n",
    "cv2.destroyAllWindows()"
   ]
  }
 ],
 "metadata": {
  "kernelspec": {
   "display_name": "Python 3",
   "language": "python",
   "name": "python3"
  },
  "language_info": {
   "codemirror_mode": {
    "name": "ipython",
    "version": 3
   },
   "file_extension": ".py",
   "mimetype": "text/x-python",
   "name": "python",
   "nbconvert_exporter": "python",
   "pygments_lexer": "ipython3",
   "version": "3.10.11"
  }
 },
 "nbformat": 4,
 "nbformat_minor": 2
}
