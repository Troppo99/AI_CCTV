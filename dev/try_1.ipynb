{
 "cells": [
  {
   "cell_type": "code",
   "execution_count": null,
   "metadata": {},
   "outputs": [],
   "source": [
    "import cv2\n",
    "import supervision as sv\n",
    "from ultralytics import YOLO"
   ]
  },
  {
   "cell_type": "code",
   "execution_count": null,
   "metadata": {},
   "outputs": [],
   "source": [
    "video_path = \"../../MY_FILES/Videos/OFFICE HOURS JAKARTA CINEMATIC VIDEO _ Canon EOS R6 Mark II 4K.mp4\" # 1280 x 720   1600 x 900\n",
    "# video_path = \"../../MY_FILES/Videos/CCTV/source/10_ch04_20240425073845.mp4\"                               # 1920 x 1080"
   ]
  },
  {
   "cell_type": "code",
   "execution_count": null,
   "metadata": {},
   "outputs": [],
   "source": [
    "video = cv2.VideoCapture(video_path)\n",
    "model = YOLO(\"../.runs/weights/yolov8n-cls.pt\")\n",
    "bbox_annotator = sv.BoxAnnotator()\n",
    "while video.isOpened():\n",
    "    ret, frame = video.read()\n",
    "    if ret is True:\n",
    "        result = model(frame)[0]\n",
    "        detections = sv.Detections.from_ultralytics(result)\n",
    "        detections = detections[detections.confidence > 0.5]\n",
    "        labels = [result.names[class_id] for class_id in detections.class_id]\n",
    "        frame = bbox_annotator.annotate(scene=frame, detections=detections, labels=labels)\n",
    "        cv2.imshow(\"Frame\", frame)\n",
    "        if cv2.waitKey(1) & 0xFF == ord(\"n\"):\n",
    "            break\n",
    "    else:\n",
    "        break\n",
    "\n",
    "video.release()\n",
    "cv2.destroyAllWindows()"
   ]
  }
 ],
 "metadata": {
  "kernelspec": {
   "display_name": "Python 3",
   "language": "python",
   "name": "python3"
  },
  "language_info": {
   "codemirror_mode": {
    "name": "ipython",
    "version": 3
   },
   "file_extension": ".py",
   "mimetype": "text/x-python",
   "name": "python",
   "nbconvert_exporter": "python",
   "pygments_lexer": "ipython3",
   "version": "3.10.11"
  }
 },
 "nbformat": 4,
 "nbformat_minor": 2
}
