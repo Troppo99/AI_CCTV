{
 "cells": [
  {
   "cell_type": "markdown",
   "metadata": {},
   "source": [
    "# Instalasi YOLO"
   ]
  },
  {
   "cell_type": "code",
   "execution_count": null,
   "metadata": {},
   "outputs": [],
   "source": [
    "!conda list"
   ]
  },
  {
   "cell_type": "code",
   "execution_count": null,
   "metadata": {},
   "outputs": [],
   "source": [
    "!pip install -U ultralytics"
   ]
  },
  {
   "cell_type": "code",
   "execution_count": null,
   "metadata": {},
   "outputs": [],
   "source": [
    "!nvidia-smi"
   ]
  },
  {
   "cell_type": "code",
   "execution_count": null,
   "metadata": {},
   "outputs": [],
   "source": [
    "!conda install ultralytics"
   ]
  },
  {
   "cell_type": "code",
   "execution_count": null,
   "metadata": {},
   "outputs": [],
   "source": [
    "# !pip uninstall torch torchvision torchaudio\n",
    "# !pip3 install torch torchvision torchaudio --index-url https://download.pytorch.org/whl/cu118"
   ]
  },
  {
   "cell_type": "code",
   "execution_count": null,
   "metadata": {},
   "outputs": [],
   "source": [
    "from ultralytics import YOLO"
   ]
  },
  {
   "cell_type": "markdown",
   "metadata": {},
   "source": [
    "# Predict gambar"
   ]
  },
  {
   "cell_type": "code",
   "execution_count": null,
   "metadata": {},
   "outputs": [],
   "source": [
    "!yolo task=detect mode=predict model=.runs/weights/yolov8l.pt conf=0.25 source=\"D:/NWR27/MY_FILES/Datasets/z_arc/Murtaza/Images/People.jpg\" project=\"../.runs/detect\" name=\".predict\""
   ]
  },
  {
   "cell_type": "markdown",
   "metadata": {},
   "source": [
    "# Train Video"
   ]
  },
  {
   "cell_type": "markdown",
   "metadata": {},
   "source": [
    "**Preparation**"
   ]
  },
  {
   "cell_type": "code",
   "execution_count": null,
   "metadata": {},
   "outputs": [],
   "source": [
    "!nvcc --version"
   ]
  },
  {
   "cell_type": "code",
   "execution_count": null,
   "metadata": {},
   "outputs": [],
   "source": [
    "import torch\n",
    "print(torch.__version__)\n",
    "print(torch.cuda.is_available())"
   ]
  },
  {
   "cell_type": "code",
   "execution_count": null,
   "metadata": {},
   "outputs": [],
   "source": [
    "import torch\n",
    "\n",
    "def check_cuda():\n",
    "    if torch.cuda.is_available():\n",
    "        print(\"CUDA is available!\")\n",
    "        print(\"Device Name:\", torch.cuda.get_device_name(0))\n",
    "        print(\"Number of GPUs:\", torch.cuda.device_count())\n",
    "    else:\n",
    "        print(\"CUDA is not available.\")\n",
    "\n",
    "if __name__ == \"__main__\":\n",
    "    check_cuda()\n"
   ]
  },
  {
   "cell_type": "code",
   "execution_count": null,
   "metadata": {},
   "outputs": [],
   "source": [
    "!conda install pytorch torchvision torchaudio pytorch-cuda=11.8 -c pytorch -c nvidia"
   ]
  },
  {
   "cell_type": "code",
   "execution_count": null,
   "metadata": {},
   "outputs": [],
   "source": [
    "# import subprocess\n",
    "# import os\n",
    "\n",
    "# # Menentukan jalur ke executable conda\n",
    "# conda_path = r\"C:\\Users\\<username>\\Anaconda3\\Scripts\\conda.exe\"\n",
    "\n",
    "# # Perintah untuk dijalankan\n",
    "# command = [conda_path, \"install\", \"-y\", \"nvidia\"]\n",
    "\n",
    "# # Menjalankan perintah conda dengan subprocess\n",
    "# process = subprocess.Popen(\n",
    "#     command, stdout=subprocess.PIPE, stderr=subprocess.PIPE, text=True, bufsize=1\n",
    "# )\n",
    "\n",
    "# # Tampilkan output secara real-time\n",
    "# for line in iter(process.stdout.readline, \"\"):\n",
    "#     print(line, end=\"\")\n",
    "\n",
    "# # Tunggu hingga proses selesai\n",
    "# process.stdout.close()\n",
    "# process.wait()"
   ]
  },
  {
   "cell_type": "markdown",
   "metadata": {},
   "source": [
    "**Start Training**"
   ]
  },
  {
   "cell_type": "code",
   "execution_count": null,
   "metadata": {},
   "outputs": [],
   "source": [
    "!yolo task=detect mode=train model=.runs/weights/yolov8l.pt data=\"D:/NWR27/MY_FILES/Datasets/GarmentFinishing-3/data.yaml\" epochs=50 imgsz=640 project=\"../.runs/detect\" name=\"GarmentFinishing-3\""
   ]
  },
  {
   "cell_type": "markdown",
   "metadata": {},
   "source": [
    "Menggunakan subprocess agar output dapat tampil secara realtime **(tidak menunggu running selesai)**"
   ]
  },
  {
   "cell_type": "code",
   "execution_count": null,
   "metadata": {},
   "outputs": [],
   "source": [
    "import subprocess\n",
    "import sys\n",
    "\n",
    "command = [\n",
    "    \"yolo\", \n",
    "    \"task=detect\", \n",
    "    \"mode=train\", \n",
    "    \"model=.runs/weights/yolov8l.pt\", \n",
    "    \"data=D:/NWR27/MY_FILES/Datasets/GarmentFinishing-3/data.yaml\", \n",
    "    \"epochs=50\", \n",
    "    \"imgsz=640\", \n",
    "    \"project=../.runs/detect\", \n",
    "    \"name=GarmentFinishing-3\"\n",
    "]\n",
    "\n",
    "process = subprocess.Popen(command, stdout=subprocess.PIPE, stderr=subprocess.PIPE, text=True, bufsize=1)\n",
    "\n",
    "# Tampilkan output secara real-time\n",
    "for line in iter(process.stdout.readline, ''):\n",
    "    print(line, end='')\n",
    "    sys.stdout.flush()\n",
    "\n",
    "process.stdout.close()\n",
    "process.stderr.close()\n",
    "process.wait()"
   ]
  }
 ],
 "metadata": {
  "kernelspec": {
   "display_name": "Python 3",
   "language": "python",
   "name": "python3"
  },
  "language_info": {
   "codemirror_mode": {
    "name": "ipython",
    "version": 3
   },
   "file_extension": ".py",
   "mimetype": "text/x-python",
   "name": "python",
   "nbconvert_exporter": "python",
   "pygments_lexer": "ipython3",
   "version": "3.10.11"
  }
 },
 "nbformat": 4,
 "nbformat_minor": 2
}
