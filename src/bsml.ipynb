{
 "cells": [
  {
   "cell_type": "markdown",
   "metadata": {},
   "source": [
    "# INISIALISASI TRAINING"
   ]
  },
  {
   "cell_type": "code",
   "execution_count": null,
   "metadata": {},
   "outputs": [],
   "source": [
    "from ultralytics import YOLO"
   ]
  },
  {
   "cell_type": "code",
   "execution_count": null,
   "metadata": {},
   "outputs": [],
   "source": [
    "!yolo task=detect mode=predict model=../.runs/weights/yolov8l.pt conf=0.25 source=\"D:/NWR27/MY_FILES/Datasets/z_arc/Murtaza/Images/People.jpg\" project=\"../.runs/detect/.try\" name=\"predict\""
   ]
  },
  {
   "cell_type": "code",
   "execution_count": null,
   "metadata": {},
   "outputs": [],
   "source": [
    "import torch\n",
    "\n",
    "print(torch.cuda.is_available())\n",
    "print(torch.cuda.get_device_name(0))"
   ]
  },
  {
   "cell_type": "code",
   "execution_count": null,
   "metadata": {},
   "outputs": [],
   "source": [
    "from IPython.display import display\n",
    "from IPython.core.interactiveshell import InteractiveShell\n",
    "\n",
    "InteractiveShell.ast_node_interactivity = \"all\""
   ]
  },
  {
   "cell_type": "markdown",
   "metadata": {},
   "source": [
    "# STARTING TRAINING WITH REALTIME OUTPUT"
   ]
  },
  {
   "cell_type": "code",
   "execution_count": null,
   "metadata": {},
   "outputs": [],
   "source": [
    "import subprocess\n",
    "import sys\n",
    "import threading\n",
    "\n",
    "\n",
    "def read_output(pipe, pipe_name):\n",
    "    for line in iter(pipe.readline, \"\"):\n",
    "        if pipe_name == \"stderr\" and \"ERROR\" in line:\n",
    "            print(f\"ERROR: {line}\", end=\"\", file=sys.stderr)\n",
    "        else:\n",
    "            if \"Epoch\" in line:\n",
    "                print()  # Print a newline before printing epoch info\n",
    "            print(line, end=\"\\r\" if \"Epoch\" not in line else \"\\n\")\n",
    "        sys.stdout.flush()\n",
    "    pipe.close()\n",
    "\n",
    "\n",
    "command = [\n",
    "    \"yolo\",\n",
    "    \"task=detect\",\n",
    "    \"mode=train\",\n",
    "    \"model=../.runs/weights/yolov8l.pt\",\n",
    "    \"data=D:/NWR27/MY_FILES/Datasets/employees_3_original++/data.yaml\",\n",
    "    \"epochs=50\",\n",
    "    \"imgsz=640\",\n",
    "    \"project=../.runs/detect\",\n",
    "    \"name=employees_3_original++\",\n",
    "]\n",
    "\n",
    "process = subprocess.Popen(command, stdout=subprocess.PIPE, stderr=subprocess.PIPE, text=True, bufsize=1)\n",
    "\n",
    "# Membuat thread untuk menangani stdout dan stderr\n",
    "stdout_thread = threading.Thread(target=read_output, args=(process.stdout, \"stdout\"))\n",
    "stderr_thread = threading.Thread(target=read_output, args=(process.stderr, \"stderr\"))\n",
    "\n",
    "# Memulai thread\n",
    "stdout_thread.start()\n",
    "stderr_thread.start()\n",
    "\n",
    "# Menunggu proses selesai\n",
    "process.wait()\n",
    "\n",
    "# Menunggu thread selesai\n",
    "stdout_thread.join()\n",
    "stderr_thread.join()"
   ]
  }
 ],
 "metadata": {
  "kernelspec": {
   "display_name": "Python 3",
   "language": "python",
   "name": "python3"
  },
  "language_info": {
   "codemirror_mode": {
    "name": "ipython",
    "version": 3
   },
   "file_extension": ".py",
   "mimetype": "text/x-python",
   "name": "python",
   "nbconvert_exporter": "python",
   "pygments_lexer": "ipython3",
   "version": "3.10.11"
  }
 },
 "nbformat": 4,
 "nbformat_minor": 2
}
