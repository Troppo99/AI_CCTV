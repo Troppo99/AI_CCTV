{
 "cells": [
  {
   "cell_type": "code",
   "execution_count": null,
   "metadata": {},
   "outputs": [],
   "source": [
    "from ultralytics import YOLO"
   ]
  },
  {
   "cell_type": "code",
   "execution_count": null,
   "metadata": {},
   "outputs": [],
   "source": [
    "!yolo task=detect mode=predict model=../.runs/weights/yolov8l.pt conf=0.25 source=\"D:/NWR27/MY_FILES/Datasets/z_arc/Murtaza/Images/People.jpg\" project=\"../.runs/detect/.try\" name=\"predict\""
   ]
  },
  {
   "cell_type": "code",
   "execution_count": null,
   "metadata": {},
   "outputs": [],
   "source": [
    "import torch\n",
    "\n",
    "print(torch.cuda.is_available())\n",
    "print(torch.cuda.get_device_name(0))"
   ]
  },
  {
   "cell_type": "code",
   "execution_count": 1,
   "metadata": {},
   "outputs": [],
   "source": [
    "from IPython.display import display\n",
    "from IPython.core.interactiveshell import InteractiveShell\n",
    "\n",
    "InteractiveShell.ast_node_interactivity = \"all\""
   ]
  },
  {
   "cell_type": "code",
   "execution_count": 1,
   "metadata": {},
   "outputs": [],
   "source": [
    "import subprocess\n",
    "import sys\n",
    "\n",
    "command = [\n",
    "    \"yolo\",\n",
    "    \"task=detect\",\n",
    "    \"mode=train\",\n",
    "    \"model=../.runs/weights/yolov8l.pt\",\n",
    "    \"data=D:/NWR27/MY_FILES/Datasets/employees_3_original++/data.yaml\",\n",
    "    \"epochs=50\",\n",
    "    \"imgsz=640\",\n",
    "    \"project=../.runs/detect\",\n",
    "    \"name=employees_3_original++\",\n",
    "]\n",
    "\n",
    "process = subprocess.Popen(command, stdout=subprocess.PIPE, stderr=subprocess.PIPE, text=True, bufsize=1)\n",
    "\n",
    "# Tampilkan output secara real-time\n",
    "for line in iter(process.stdout.readline, \"\"):\n",
    "    print(line, end=\"\")\n",
    "    sys.stdout.flush()\n",
    "\n",
    "process.stdout.close()\n",
    "process.stderr.close()\n",
    "process.wait()"
   ]
  }
 ],
 "metadata": {
  "kernelspec": {
   "display_name": "Python 3",
   "language": "python",
   "name": "python3"
  },
  "language_info": {
   "codemirror_mode": {
    "name": "ipython",
    "version": 3
   },
   "file_extension": ".py",
   "mimetype": "text/x-python",
   "name": "python",
   "nbconvert_exporter": "python",
   "pygments_lexer": "ipython3",
   "version": "3.10.11"
  }
 },
 "nbformat": 4,
 "nbformat_minor": 2
}
